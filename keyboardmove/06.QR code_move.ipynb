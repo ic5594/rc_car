{
 "cells": [
  {
   "cell_type": "markdown",
   "source": [
    "<center><img src=\"../logo.png\" alt=\"Header\" style=\"width: 800px;\"/></center>"
   ],
   "metadata": {}
  },
  {
   "cell_type": "markdown",
   "source": [
    "\n",
    "@Copyright (C): 2010-2020, Shenzhen Yahboom Tech  \n",
    "@Author: Liusen  \n",
    "@Date: 2020-02-09 14:00:02  \n",
    "@LastEditors: Liusen  \n",
    "@LastEditTime: 2020-02-09 14:00:02     "
   ],
   "metadata": {}
  },
  {
   "cell_type": "code",
   "execution_count": null,
   "source": [
    "#bgr8 ot jpeg format\n",
    "import enum\n",
    "import cv2\n",
    "\n",
    "def bgr8_to_jpeg(value, quality=75):\n",
    "    return bytes(cv2.imencode('.jpg', value)[1])"
   ],
   "outputs": [],
   "metadata": {}
  },
  {
   "cell_type": "markdown",
   "source": [
    "# Import library and display camera display components"
   ],
   "metadata": {}
  },
  {
   "cell_type": "code",
   "execution_count": null,
   "source": [
    "# import the necessary packages\n",
    "# import simple_barcode_detection\n",
    "import cv2\n",
    "import numpy as np\n",
    "import pyzbar.pyzbar as pyzbar\n",
    "from PIL import Image\n",
    "import ipywidgets.widgets as widgets\n",
    "\n",
    "#-*- coding:UTF-8 -*-\n",
    "import RPi.GPIO as GPIO\n",
    "import time\n",
    "\n",
    "#Set GPIO port to BCM coding mode\n",
    "GPIO.setmode(GPIO.BCM)\n",
    "\n",
    "#Ignore the warning message\n",
    "GPIO.setwarnings(False)\n",
    "\n",
    "#Define motor pin\n",
    "IN1 = 19\n",
    "IN2 = 26\n",
    "IN3 = 20\n",
    "IN4 = 21\n",
    "ENA = 13\n",
    "ENB = 16\n",
    "\n",
    "image_widget = widgets.Image(format='jpeg', width=320, height=240)\n",
    "display(image_widget)                                      #display camera video"
   ],
   "outputs": [],
   "metadata": {}
  },
  {
   "cell_type": "code",
   "execution_count": null,
   "source": [
    "# Define the direction, time and initialization of the motor pins"
   ],
   "outputs": [],
   "metadata": {}
  },
  {
   "cell_type": "code",
   "execution_count": null,
   "source": [
    "#Motor pin initialization operation\n",
    "def motor_init():\n",
    "    global pwm_ENA\n",
    "    global pwm_ENB\n",
    "    global delaytime\n",
    "    GPIO.setup(ENA,GPIO.OUT,initial=GPIO.HIGH)\n",
    "    GPIO.setup(IN1,GPIO.OUT,initial=GPIO.LOW)\n",
    "    GPIO.setup(IN2,GPIO.OUT,initial=GPIO.LOW)\n",
    "    GPIO.setup(ENB,GPIO.OUT,initial=GPIO.HIGH)\n",
    "    GPIO.setup(IN3,GPIO.OUT,initial=GPIO.LOW)\n",
    "    GPIO.setup(IN4,GPIO.OUT,initial=GPIO.LOW)\n",
    "    #设置pwm引脚和频率为2000hz\n",
    "    pwm_ENA = GPIO.PWM(ENA, 2000)\n",
    "    pwm_ENB = GPIO.PWM(ENB, 2000)\n",
    "    pwm_ENA.start(0)\n",
    "    pwm_ENB.start(0)\n",
    "\n",
    "#car advance\n",
    "def run(delaytime):\n",
    "    GPIO.output(IN1, GPIO.HIGH)\n",
    "    GPIO.output(IN2, GPIO.LOW)\n",
    "    GPIO.output(IN3, GPIO.HIGH)\n",
    "    GPIO.output(IN4, GPIO.LOW)\n",
    "    pwm_ENA.ChangeDutyCycle(80)\n",
    "    pwm_ENB.ChangeDutyCycle(80)\n",
    "    time.sleep(delaytime)\n",
    "\n",
    "#car back\n",
    "def back(delaytime):\n",
    "    GPIO.output(IN1, GPIO.LOW)\n",
    "    GPIO.output(IN2, GPIO.HIGH)\n",
    "    GPIO.output(IN3, GPIO.LOW)\n",
    "    GPIO.output(IN4, GPIO.HIGH)\n",
    "    pwm_ENA.ChangeDutyCycle(80)\n",
    "    pwm_ENB.ChangeDutyCycle(80)\n",
    "    time.sleep(delaytime)\n",
    "\n",
    "#car turn left\n",
    "def left(delaytime):\n",
    "    GPIO.output(IN1, GPIO.LOW)\n",
    "    GPIO.output(IN2, GPIO.LOW)\n",
    "    GPIO.output(IN3, GPIO.HIGH)\n",
    "    GPIO.output(IN4, GPIO.LOW)\n",
    "    pwm_ENA.ChangeDutyCycle(80)\n",
    "    pwm_ENB.ChangeDutyCycle(80)\n",
    "    time.sleep(delaytime)\n",
    "\n",
    "#car turn right\n",
    "def right(delaytime):\n",
    "    GPIO.output(IN1, GPIO.HIGH)\n",
    "    GPIO.output(IN2, GPIO.LOW)\n",
    "    GPIO.output(IN3, GPIO.LOW)\n",
    "    GPIO.output(IN4, GPIO.LOW)\n",
    "    pwm_ENA.ChangeDutyCycle(80)\n",
    "    pwm_ENB.ChangeDutyCycle(80)\n",
    "    time.sleep(delaytime)\n",
    "\n",
    "#czar spin left\n",
    "def spin_left(delaytime):\n",
    "    GPIO.output(IN1, GPIO.LOW)\n",
    "    GPIO.output(IN2, GPIO.HIGH)\n",
    "    GPIO.output(IN3, GPIO.HIGH)\n",
    "    GPIO.output(IN4, GPIO.LOW)\n",
    "    pwm_ENA.ChangeDutyCycle(80)\n",
    "    pwm_ENB.ChangeDutyCycle(80)\n",
    "    time.sleep(delaytime)\n",
    "\n",
    "#car spin right\n",
    "def spin_right(delaytime):\n",
    "    GPIO.output(IN1, GPIO.HIGH)\n",
    "    GPIO.output(IN2, GPIO.LOW)\n",
    "    GPIO.output(IN3, GPIO.LOW)\n",
    "    GPIO.output(IN4, GPIO.HIGH)\n",
    "    pwm_ENA.ChangeDutyCycle(80)\n",
    "    pwm_ENB.ChangeDutyCycle(80)\n",
    "    time.sleep(delaytime)\n",
    "\n",
    "#car stop\n",
    "def brake(delaytime):\n",
    "    GPIO.output(IN1, GPIO.LOW)\n",
    "    GPIO.output(IN2, GPIO.LOW)\n",
    "    GPIO.output(IN3, GPIO.LOW)\n",
    "    GPIO.output(IN4, GPIO.LOW)\n",
    "    pwm_ENA.ChangeDutyCycle(80)\n",
    "    pwm_ENB.ChangeDutyCycle(80)\n",
    "    time.sleep(delaytime)"
   ],
   "outputs": [],
   "metadata": {}
  },
  {
   "cell_type": "markdown",
   "source": [
    "# Define the recognition motion function"
   ],
   "metadata": {}
  },
  {
   "cell_type": "code",
   "execution_count": null,
   "source": [
    "def detect_control(info):\n",
    "    if info == \"forward\":\n",
    "        run(1) \n",
    "        brake(1)#前进1秒\n",
    "    elif info == \"back\":\n",
    "        back(1) \n",
    "        brake(1)#后退1秒\n",
    "    elif info == \"left\":\n",
    "        left(1) \n",
    "        brake(1)#左转1秒\n",
    "    elif info == \"right\":\n",
    "        right(1)\n",
    "        brake(1)#右转1秒\n",
    "    elif info == \"brake\":\n",
    "        brake(1)"
   ],
   "outputs": [],
   "metadata": {}
  },
  {
   "cell_type": "markdown",
   "source": [
    "# Define the QR code interface"
   ],
   "metadata": {}
  },
  {
   "cell_type": "code",
   "execution_count": null,
   "source": [
    "def decodeDisplay(image):\n",
    "    barcodes = pyzbar.decode(image)\n",
    "    for barcode in barcodes:\n",
    "        # Extract the position of the bounding box of the QR code\n",
    "        # Draw the bounding box of the barcode in the image\n",
    "        (x, y, w, h) = barcode.rect\n",
    "        cv2.rectangle(image, (x, y), (x + w, y + h), (225, 225, 225), 2)\n",
    "\n",
    "        # Extract the QR code data as a byte object, so if we want to output the image, you need to convert it to a string \n",
    "        barcodeData = barcode.data.decode(\"utf-8\")\n",
    "        barcodeType = barcode.type\n",
    "\n",
    "        # Draws the data and barcode type of the barcode on the image\n",
    "        text = \"{} ({})\".format(barcodeData, barcodeType)\n",
    "        cv2.putText(image, text, (x, y - 10), cv2.FONT_HERSHEY_SIMPLEX, 0.5, (225, 225, 225), 2)\n",
    "        \n",
    "        # Print the data and barcode type of the barcode on the terminal\n",
    "        print(\"[INFO] Found {} barcode: {}\".format(barcodeType, barcodeData))\n",
    "        detect_control(barcodeData)\n",
    "    return image\n",
    "\n",
    "def detect():\n",
    "    motor_init()\n",
    "    camera = cv2.VideoCapture(0)\n",
    "    camera.set(3, 320)\n",
    "    camera.set(4, 240)\n",
    "    camera.set(5, 120) #Set frame rate\n",
    "    # fourcc = cv2.VideoWriter_fourcc(*\"MPEG\")\n",
    "    camera.set(cv2.CAP_PROP_FOURCC, cv2.VideoWriter.fourcc('M', 'J', 'P', 'G'))\n",
    "    camera.set(cv2.CAP_PROP_BRIGHTNESS, 40) #-64 - 64  0.0\n",
    "    camera.set(cv2.CAP_PROP_CONTRAST, 50) # -64 - 64  2.0\n",
    "    camera.set(cv2.CAP_PROP_EXPOSURE, 156) # 1.0 - 5000  156.0\n",
    "    ret, frame = camera.read()\n",
    "    image_widget.value = bgr8_to_jpeg(frame)\n",
    "    while True:\n",
    "        # Read frame currently\n",
    "        ret, frame = camera.read()\n",
    "        # To Grayscale image\n",
    "        gray = cv2.cvtColor(frame, cv2.COLOR_BGR2GRAY)\n",
    "        im = decodeDisplay(gray)\n",
    "        cv2.waitKey(5)\n",
    "        image_widget.value = bgr8_to_jpeg(im)\n",
    "        # If you press q, you will be out of the loop\n",
    "        \n",
    "        if cv2.waitKey(10) & 0xFF == ord('q'):\n",
    "            break\n",
    "    camera.release()\n",
    "    cv2.destroyAllWindows()"
   ],
   "outputs": [],
   "metadata": {}
  },
  {
   "cell_type": "code",
   "execution_count": null,
   "source": [
    "detect()"
   ],
   "outputs": [],
   "metadata": {}
  },
  {
   "cell_type": "code",
   "execution_count": null,
   "source": [],
   "outputs": [],
   "metadata": {}
  }
 ],
 "metadata": {
  "kernelspec": {
   "name": "python3",
   "display_name": "Python 3.8.5 32-bit"
  },
  "language_info": {
   "codemirror_mode": {
    "name": "ipython",
    "version": 3
   },
   "file_extension": ".py",
   "mimetype": "text/x-python",
   "name": "python",
   "nbconvert_exporter": "python",
   "pygments_lexer": "ipython3",
   "version": "3.8.5"
  },
  "interpreter": {
   "hash": "0adcc2737ebf6a4a119f135174df96668767fca1ef1112612db5ecadf2b6d608"
  }
 },
 "nbformat": 4,
 "nbformat_minor": 4
}